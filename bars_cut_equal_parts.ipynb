{
 "cells": [
  {
   "cell_type": "code",
   "execution_count": 1,
   "id": "7912838a-82f1-410d-a334-ca5184cd41b4",
   "metadata": {},
   "outputs": [],
   "source": [
    "import numpy as np\n",
    "import cv2\n",
    "import os"
   ]
  },
  {
   "cell_type": "markdown",
   "id": "5ce91595-19a1-4af6-b88c-6b24b543ef33",
   "metadata": {},
   "source": [
    "## Step-by-Step Solution\n",
    "1. Reading the image. (Do you need to know about libraries, be mature man).\n",
    "2. Giving the number of rows and columns if image is like the sample one.\n",
    "3. calculating each images height by dividing it in total number of rows and columns as mentioned.\n",
    "4. Creating folder to save output images.\n",
    "5. Lastly, cutting all the pieces or dividing images into total pieces as per number of rows and columns mentioned.\n",
    "6. Hurray, Work done!"
   ]
  },
  {
   "cell_type": "code",
   "execution_count": 2,
   "id": "8abd4e7c-f791-4289-bcb0-05ef060801f8",
   "metadata": {},
   "outputs": [
    {
     "name": "stdout",
     "output_type": "stream",
     "text": [
      "Saved: output_bars\\piece_0_0.jpg\n",
      "Saved: output_bars\\piece_0_1.jpg\n",
      "Saved: output_bars\\piece_0_2.jpg\n",
      "Saved: output_bars\\piece_1_0.jpg\n",
      "Saved: output_bars\\piece_1_1.jpg\n",
      "Saved: output_bars\\piece_1_2.jpg\n",
      "Saved: output_bars\\piece_2_0.jpg\n",
      "Saved: output_bars\\piece_2_1.jpg\n",
      "Saved: output_bars\\piece_2_2.jpg\n",
      "Saved: output_bars\\piece_3_0.jpg\n",
      "Saved: output_bars\\piece_3_1.jpg\n",
      "Saved: output_bars\\piece_3_2.jpg\n",
      "Saved: output_bars\\piece_4_0.jpg\n",
      "Saved: output_bars\\piece_4_1.jpg\n",
      "Saved: output_bars\\piece_4_2.jpg\n",
      "Saved: output_bars\\piece_5_0.jpg\n",
      "Saved: output_bars\\piece_5_1.jpg\n",
      "Saved: output_bars\\piece_5_2.jpg\n",
      "Image successfully split into pieces!\n"
     ]
    }
   ],
   "source": [
    "image_path = \"bars_original.jpg\"  \n",
    "image = cv2.imread(image_path)\n",
    "\n",
    "if image is None:\n",
    "    print(\"Error: Could not load image. Check the file path.\")\n",
    "    exit()\n",
    "\n",
    "num_rows = 6 \n",
    "num_cols = 3 \n",
    "\n",
    "\n",
    "image_height, image_width, _ = image.shape\n",
    "sub_image_height = image_height // num_rows\n",
    "sub_image_width = image_width // num_cols\n",
    "\n",
    "output_dir = \"output_bars\"\n",
    "if not os.path.exists(output_dir):\n",
    "    os.makedirs(output_dir)\n",
    "\n",
    "for row in range(num_rows):\n",
    "    for col in range(num_cols):\n",
    "        start_x = col * sub_image_width\n",
    "        start_y = row * sub_image_height\n",
    "        end_x = (col + 1) * sub_image_width\n",
    "        end_y = (row + 1) * sub_image_height\n",
    "        \n",
    "        sub_image = image[start_y:end_y, start_x:end_x]\n",
    "        output_path = os.path.join(output_dir, f\"piece_{row}_{col}.jpg\")\n",
    "        cv2.imwrite(output_path, sub_image)\n",
    "        print(f\"Saved: {output_path}\")\n",
    "\n",
    "print(\"Image successfully split into pieces!\")\n"
   ]
  },
  {
   "cell_type": "code",
   "execution_count": null,
   "id": "c633441c-60a2-4757-9e9e-a3d97654cbfd",
   "metadata": {},
   "outputs": [],
   "source": []
  }
 ],
 "metadata": {
  "kernelspec": {
   "display_name": "myenv",
   "language": "python",
   "name": "python3"
  },
  "language_info": {
   "codemirror_mode": {
    "name": "ipython",
    "version": 3
   },
   "file_extension": ".py",
   "mimetype": "text/x-python",
   "name": "python",
   "nbconvert_exporter": "python",
   "pygments_lexer": "ipython3",
   "version": "3.13.2"
  }
 },
 "nbformat": 4,
 "nbformat_minor": 5
}
